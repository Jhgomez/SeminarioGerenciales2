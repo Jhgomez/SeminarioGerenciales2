Importar librerias necesarias para limpiar y transformar

import pandas as pd
import numpy as np
import matplotlib as mplt 
import nltk
from nltk.corpus import stopwords
from nltk.tokenize import word_tokenize
from nltk.stem import WordNetLemmatizer
from nltk.sentiment import SentimentIntensityAnalyzer

Importar Archivo

from google.colab import files

csv = files.upload()

Leer el archivo, y comprobar la cantidad de datos

dataframe = pd.read_csv("Datos.csv")
len(dataframe)

Ver la muestra de datos

dataframe.head()

Start transformations:

1.   Empty Ratings will have 0

dataframe["Rating"] = pd.to_numeric(dataframe["Rating"])
dataframe.head().fillna(0.0)

2. Duration
* Priority to find string matches, from more priority to less priority, will be month, week, hour and minutes, minutes
* we will separate it with ammount and unit, for example [1.0, "hour"]
* Empty strings will be [0.0 "hour"]**bold text**
* strings that don't match our regular expressions will be declared as [0.0, "noFormat"]

import re

def parse_duration(text):
    if not isinstance(text, str) or not text.strip():
        return (0.0, "hour")

    text = text.lower()

    # Check for months first
    month_match = re.search(r'(\d+)\s*month', text)
    if month_match:
        return (float(month_match.group(1)), 'month')

    
    week_match = re.search(r'(\d+)\s*week', text)
    if week_match:
        return (float(week_match.group(1)), 'week')

    # Check for hours and minutes
    hour_match = re.search(r'(\d+)\s*hour', text)
    minute_match = re.search(r'(\d+)\s*minute', text)

    hours = int(hour_match.group(1)) if hour_match else 0
    minutes = int(minute_match.group(1)) if minute_match else 0

    if hours == 0 and minutes > 0:
      return (minutes, 'minute')

    # Apply rounding rules based on minutes
    if minutes == 0:
        amount = float(hours)
    elif minutes <= 30:
        amount = float(hours) + 0.5
    else:
        amount = float(hours + 1)

    # If no valid time info found
    if hours == 0 and minutes == 0:
        return (0.0, "noFormat")

    return (amount, 'hour')

dataframe[['ammountOfTime', 'unit']] = dataframe['Duration'].apply(lambda x: pd.Series(parse_duration(x)))

dataframe.loc[(dataframe['ammountOfTime'] == 0.0) & (dataframe['unit'] == "hour")].head()




Skill may be used to determine most attractive skills for customers, so I will separate them
If list is empty then default value will be "not_defined"

import ast

dataframe['Skill gain'] = dataframe['Skill gain'].apply(lambda x: ast.literal_eval(x) if isinstance(x, str) else x) # turn it into a list
dataframe['Skill gain'] = dataframe['Skill gain'].apply(lambda x: x if x else ['NA']) # replace empty lists

dataframe = dataframe.explode('Skill gain').rename(columns={'Skill gain': 'skillLabel'}) # break list down into individual rows

dataframe.loc[dataframe["skillLabel"] == "NA"].head()